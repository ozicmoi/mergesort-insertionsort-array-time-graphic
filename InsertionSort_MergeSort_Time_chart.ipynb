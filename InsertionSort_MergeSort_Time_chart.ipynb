{
 "cells": [
  {
   "cell_type": "markdown",
   "metadata": {
    "id": "_y-gY1Ss4ZHA"
   },
   "source": [
    "**Gereksinimler(İmport edilen kütüphaneler**"
   ]
  },
  {
   "cell_type": "code",
   "execution_count": 81,
   "metadata": {
    "executionInfo": {
     "elapsed": 675,
     "status": "ok",
     "timestamp": 1668503939802,
     "user": {
      "displayName": "Özlem ATIZ",
      "userId": "01785973480505106116"
     },
     "user_tz": -180
    },
    "id": "HpPYCber4aI3"
   },
   "outputs": [],
   "source": [
    "import  numpy as np   \n",
    "import time\n",
    "from datetime import datetime\n",
    "import matplotlib.pyplot as plt\n",
    "from shapely.geometry import LineString"
   ]
  },
  {
   "cell_type": "code",
   "execution_count": 82,
   "metadata": {
    "colab": {
     "base_uri": "https://localhost:8080/"
    },
    "executionInfo": {
     "elapsed": 8669,
     "status": "ok",
     "timestamp": 1668503948422,
     "user": {
      "displayName": "Özlem ATIZ",
      "userId": "01785973480505106116"
     },
     "user_tz": -180
    },
    "id": "uS7jYMuD1Bjb",
    "outputId": "a0de743a-e74e-4b3c-9258-96f9b8f51c35"
   },
   "outputs": [
    {
     "name": "stdout",
     "output_type": "stream",
     "text": [
      "/usr/lib/python3/dist-packages/secretstorage/dhcrypto.py:15: CryptographyDeprecationWarning: Python 3.6 is no longer supported by the Python core team. Therefore, support for it is deprecated in cryptography and will be removed in a future release.\n",
      "  from cryptography.utils import int_from_bytes\n",
      "Defaulting to user installation because normal site-packages is not writeable\n",
      "Requirement already satisfied: intersect in /home/uni/.local/lib/python3.6/site-packages (1.2)\n"
     ]
    }
   ],
   "source": [
    "!pip install intersect"
   ]
  },
  {
   "cell_type": "markdown",
   "metadata": {
    "id": "c5DfTOlv5PA6"
   },
   "source": [
    "**Çakışan noktaları bulmak için intersect kütüphanesi import ediliyor**"
   ]
  },
  {
   "cell_type": "code",
   "execution_count": 83,
   "metadata": {
    "executionInfo": {
     "elapsed": 68,
     "status": "ok",
     "timestamp": 1668503948423,
     "user": {
      "displayName": "Özlem ATIZ",
      "userId": "01785973480505106116"
     },
     "user_tz": -180
    },
    "id": "Y-9S6WWX1CTm"
   },
   "outputs": [],
   "source": [
    "from intersect import intersect"
   ]
  },
  {
   "cell_type": "code",
   "execution_count": 84,
   "metadata": {
    "executionInfo": {
     "elapsed": 61,
     "status": "ok",
     "timestamp": 1668503948424,
     "user": {
      "displayName": "Özlem ATIZ",
      "userId": "01785973480505106116"
     },
     "user_tz": -180
    },
    "id": "tfrHEPtYS_2y"
   },
   "outputs": [],
   "source": [
    "insertionList = []   \n",
    "mergeList = []\n",
    "countArray = [15,20,25,30,35,40,45,50,55,60,70,80,90,100,120]   #dizi eleman sayıları"
   ]
  },
  {
   "cell_type": "markdown",
   "metadata": {
    "id": "InniZdXC7c1a"
   },
   "source": [
    "**İnsertion Sort Algoritması**"
   ]
  },
  {
   "cell_type": "code",
   "execution_count": 85,
   "metadata": {
    "executionInfo": {
     "elapsed": 56,
     "status": "ok",
     "timestamp": 1668503948425,
     "user": {
      "displayName": "Özlem ATIZ",
      "userId": "01785973480505106116"
     },
     "user_tz": -180
    },
    "id": "5VfSE4_jTAA0"
   },
   "outputs": [],
   "source": [
    "def insertionSort(arr):\n",
    "\tt1 = time.time()   #Algoritmada uygulanmadan önceki zaman t1 değişkenine atanıyor\n",
    "\tfor i in range(1, len(arr)):  #1 den dizi eleman sayısına kadar döngü\n",
    "\t\tkey = arr[i]    #key değişkenine indexin içindeki değer atanıyor\n",
    "\t\tj = i-1  # j değerine i den bir önceki indexi atıyoruz.\n",
    "\t\twhile j >=0 and key < arr[j]:  # j 2. eleman ve sonraki elemanlardan  mı ? i indexi küçük j indexindeki değer olduğu sürece;\n",
    "\t\t\t\tarr[j+1] = arr[j]  #j den sonraki index değeri j nin şimdiki değerine eşitlendi\n",
    "\t\t\t\tj -= 1  # j değerini koşul sağlandıkça 1 azalt\n",
    "\t\tarr[j+1] = key  #j den sonraki  değer index[i] değerine eşit olsun\n",
    "\tt2 = time.time()   #Algoritmada uygulandıktan sonraki anlık zaman t2 değişkenine atanıyor\n",
    "\n",
    "\tfark=(t2-t1).real   #Zaman farkı alma\n",
    "\tinsertionList.append(float(fark))   # Grafiği oluşturabilmek için  listeye zaman farkı atama"
   ]
  },
  {
   "cell_type": "code",
   "execution_count": 86,
   "metadata": {
    "executionInfo": {
     "elapsed": 47,
     "status": "ok",
     "timestamp": 1668503948426,
     "user": {
      "displayName": "Özlem ATIZ",
      "userId": "01785973480505106116"
     },
     "user_tz": -180
    },
    "id": "jXQloALcTHNu"
   },
   "outputs": [],
   "source": [
    "def mergeSort(ar):\n",
    "\tif len(ar) > 1:# dizi tek elemanlı bir dizi mi? \n",
    "\t\tmid = len(ar)//2  # Diziyi ayrı ayrı sıralamak için ortadan 2 ye ayrılır.\n",
    "\t\tL = ar[:mid]   #L dizisi baştan ortadaki elemana kadar olan bir liste\n",
    "\t\tR = ar[mid:]   #R dizisi ortadan son elemana kadar olan bir liste\n",
    "\t\tmergeSort(L)   #Dizinin sol kısmını yine ikiye ayır\n",
    "\t\tmergeSort(R)   #Dizinin sağ kısmını yine ikiye ayır\n",
    "\t\ti = j = k = 0\n",
    "\t\twhile i < len(L) and j < len(R):\t\t#L ve R uzunluğu 0 olana kadar uygula\n",
    "\n",
    "\t\t#dizi parçalanıp kontroller sağlanıyor \n",
    "\n",
    "\n",
    "\t\t\tif L[i] <= R[j]:  \n",
    "\t\t\t\tar[k] = L[i]    \n",
    "\t\t\t\ti += 1\n",
    "\t\t\telse:     \n",
    "\t\t\t\tarr[k] = R[j]\n",
    "\t\t\t\tj += 1\n",
    "\t\t\tk += 1\n",
    "\t\twhile i < len(L):  \n",
    "\t\t\tarr[k] = L[i]\n",
    "\t\t\ti += 1\n",
    "\t\t\tk += 1\n",
    "\n",
    "\t\twhile j < len(R):\n",
    "\t\t\tarr[k] = R[j]\n",
    "\t\t\tj += 1\n",
    "\t\t\tk += 1"
   ]
  },
  {
   "cell_type": "code",
   "execution_count": 87,
   "metadata": {
    "executionInfo": {
     "elapsed": 41,
     "status": "ok",
     "timestamp": 1668503948427,
     "user": {
      "displayName": "Özlem ATIZ",
      "userId": "01785973480505106116"
     },
     "user_tz": -180
    },
    "id": "tmFz2LW5THWL"
   },
   "outputs": [],
   "source": [
    "for i in countArray:  #i dizi eleman sayıları için diziyi gezer\n",
    "\tarr=np.random.randint(0,10*i, size=i)   # arr[i] değeri kadar random elemanı olan  bir dizi oluşturulur. Değerler 0-10.i arasında random olacak\n",
    "\tinsertionSort(arr)   #Bu dizi insertionsort algoritmasına parametre olarak atıldı\n",
    "\ttm1 = time.time() #Mergesort uygulanmadan önceki anlık zaman\n",
    "\tmergeSort(arr)    #Bu dizi mergesort algoritmasına parametre olarak atıldı\n",
    "\ttm2 = time.time()   #mergesort uygulandıktan sonra anlık zaman\n",
    "\tfark2 = tm2 - tm1    #zaman farkı\n",
    "\tmergeList.append(float(fark2))   #zaman farkını l,steye atama"
   ]
  },
  {
   "cell_type": "markdown",
   "metadata": {
    "id": "EVS0Fq67jelI"
   },
   "source": [
    "**Aynı dizinin her iki algoritma için ne kadar sürede bittiğinin gösterimi**"
   ]
  },
  {
   "cell_type": "code",
   "execution_count": 88,
   "metadata": {
    "colab": {
     "base_uri": "https://localhost:8080/"
    },
    "executionInfo": {
     "elapsed": 36,
     "status": "ok",
     "timestamp": 1668503948427,
     "user": {
      "displayName": "Özlem ATIZ",
      "userId": "01785973480505106116"
     },
     "user_tz": -180
    },
    "id": "pfuygZYzTRQx",
    "outputId": "c6089335-428b-4aa4-9613-955663a3a125"
   },
   "outputs": [
    {
     "name": "stdout",
     "output_type": "stream",
     "text": [
      "Dizi sayısı: [15, 20, 25, 30, 35, 40, 45, 50, 55, 60, 70, 80, 90, 100, 120]\n",
      "[4.315376281738281e-05, 6.985664367675781e-05, 7.43865966796875e-05, 0.00011587142944335938, 0.00013017654418945312, 0.0001201629638671875, 0.00017952919006347656, 0.0002377033233642578, 0.0002334117889404297, 0.0003542900085449219, 0.0004189014434814453, 0.0006055831909179688, 0.0007569789886474609, 0.000705718994140625, 0.0010294914245605469]\n",
      "[5.2928924560546875e-05, 7.867813110351562e-05, 7.200241088867188e-05, 0.0001494884490966797, 0.00017571449279785156, 0.00011920928955078125, 0.00012874603271484375, 0.00014710426330566406, 0.0001633167266845703, 0.0001983642578125, 0.00027561187744140625, 0.0002930164337158203, 0.00028967857360839844, 0.00031876564025878906, 0.00038743019104003906]\n"
     ]
    }
   ],
   "source": [
    "print(\"Dizi sayısı:\",countArray)\n",
    "print(insertionList)\n",
    "print(mergeList)"
   ]
  },
  {
   "cell_type": "markdown",
   "metadata": {
    "id": "X9qHml8Ijw6T"
   },
   "source": [
    "**Dizi eleman sayısı ve algoritma süresi grafiği**"
   ]
  },
  {
   "cell_type": "code",
   "execution_count": 89,
   "metadata": {
    "colab": {
     "base_uri": "https://localhost:8080/",
     "height": 295
    },
    "executionInfo": {
     "elapsed": 771,
     "status": "ok",
     "timestamp": 1668503949177,
     "user": {
      "displayName": "Özlem ATIZ",
      "userId": "01785973480505106116"
     },
     "user_tz": -180
    },
    "id": "kvcRwyEKTRbX",
    "outputId": "3046141c-fa7e-4387-8878-3eb0e95bb7e3"
   },
   "outputs": [
    {
     "data": {
      "image/png": "[encoded data removed]",
      "text/plain": [
       "<Figure size 432x288 with 1 Axes>"
      ]
     },
     "metadata": {
      "needs_background": "light"
     },
     "output_type": "display_data"
    }
   ],
   "source": [
    "plt.plot(countArray, mergeList,label = \"Merge Sort\")    #Dizi eleman sayısı,mergesort zaman grafiği\n",
    "plt.plot(countArray, insertionList,label = \"Merge Sort\")   #Dizi eleman sayısı,insertionsort zaman grafiği\n",
    "\n",
    "plt.title('Time & Lenght Array ')   # Grafik başlığı\n",
    "plt.xlabel('Dizi Eleman Sayısı')  #X ekseni başlığı\n",
    "plt.ylabel('Time')    #y ekseni başlığı\n",
    "plt.show()   #grafiğin gösterimi"
   ]
  },
  {
   "cell_type": "code",
   "execution_count": 90,
   "metadata": {
    "colab": {
     "base_uri": "https://localhost:8080/",
     "height": 354
    },
    "executionInfo": {
     "elapsed": 68,
     "status": "ok",
     "timestamp": 1668503949179,
     "user": {
      "displayName": "Özlem ATIZ",
      "userId": "01785973480505106116"
     },
     "user_tz": -180
    },
    "id": "EyJ9wJ9e4hFD",
    "outputId": "b8b0becc-72a5-4544-d09e-fe1be9eb41b2"
   },
   "outputs": [
    {
     "name": "stderr",
     "output_type": "stream",
     "text": [
      "/home/uni/.local/lib/python3.6/site-packages/ipykernel_launcher.py:12: ShapelyDeprecationWarning: The array interface is deprecated and will no longer work in Shapely 2.0. Convert the '.coords' to a numpy array instead.\n",
      "  if sys.path[0] == '':\n",
      "/home/uni/.local/lib/python3.6/site-packages/shapely/geometry/linestring.py:46: ShapelyDeprecationWarning: The array interface is deprecated and will no longer work in Shapely 2.0. Convert the '.coords' to a numpy array instead.\n",
      "  ret = geos_linestring_from_py(coordinates)\n"
     ]
    },
    {
     "data": {
      "image/png": "[encoded data removed]",
      "text/plain": [
       "<Figure size 432x288 with 1 Axes>"
      ]
     },
     "metadata": {
      "needs_background": "light"
     },
     "output_type": "display_data"
    }
   ],
   "source": [
    "x = np.array(countArray)   # typeını array yapma \n",
    "f = np.array(insertionList)\n",
    "g = np.array(mergeList)\n",
    "plt.plot(x, g, '-')\n",
    "plt.plot(x, f, '-')\n",
    "\n",
    "first_line = LineString(np.column_stack((x, f)))  \n",
    "second_line = LineString(np.column_stack((x, g)))\n",
    "intersection = first_line.intersection(second_line)  #Her iki line plot için çakışan nokta\n",
    "\n",
    "if intersection.geom_type == 'MultiPoint':   #Eğer çakışan birden fazla nokta varsa\n",
    "    plt.plot(*LineString(intersection).xy, 'o')  \n",
    "elif intersection.geom_type == 'Point':  #Tek bir çakışma noktası varsa\n",
    "    plt.plot(*intersection.xy, 'o')"
   ]
  },
  {
   "cell_type": "code",
   "execution_count": null,
   "metadata": {},
   "outputs": [],
   "source": []
  },
  {
   "cell_type": "code",
   "execution_count": null,
   "metadata": {},
   "outputs": [],
   "source": []
  }
 ],
 "metadata": {
  "colab": {
   "collapsed_sections": [],
   "provenance": []
  },
  "kernelspec": {
   "display_name": "Python 3",
   "language": "python",
   "name": "python3"
  },
  "language_info": {
   "codemirror_mode": {
    "name": "ipython",
    "version": 3
   },
   "file_extension": ".py",
   "mimetype": "text/x-python",
   "name": "python",
   "nbconvert_exporter": "python",
   "pygments_lexer": "ipython3",
   "version": "3.6.9"
  }
 },
 "nbformat": 4,
 "nbformat_minor": 1
}
